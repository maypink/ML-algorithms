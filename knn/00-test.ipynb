{
 "cells": [
  {
   "cell_type": "code",
   "execution_count": 41,
   "id": "material-imagination",
   "metadata": {},
   "outputs": [],
   "source": [
    "import pandas as pd"
   ]
  },
  {
   "cell_type": "code",
   "execution_count": 43,
   "id": "round-idaho",
   "metadata": {},
   "outputs": [],
   "source": [
    "from sklearn.datasets import load_breast_cancer\n",
    "data = load_breast_cancer(return_X_y = True) "
   ]
  },
  {
   "cell_type": "code",
   "execution_count": 106,
   "id": "built-cheese",
   "metadata": {},
   "outputs": [],
   "source": [
    "from sklearn.preprocessing import StandardScaler"
   ]
  },
  {
   "cell_type": "code",
   "execution_count": 108,
   "id": "fancy-wings",
   "metadata": {},
   "outputs": [],
   "source": [
    "scaler = StandardScaler()"
   ]
  },
  {
   "cell_type": "code",
   "execution_count": 109,
   "id": "listed-match",
   "metadata": {},
   "outputs": [],
   "source": [
    "from sklearn.model_selection import train_test_split\n",
    "X_train, X_test, y_train, y_test = train_test_split(scaler.fit_transform(data[0]), data[1], test_size=0.3, random_state=42)"
   ]
  },
  {
   "cell_type": "code",
   "execution_count": 120,
   "id": "worldwide-catholic",
   "metadata": {},
   "outputs": [],
   "source": [
    "import math\n",
    "from tqdm import tqdm\n",
    "import numpy as np\n",
    "from typing import List, Dict"
   ]
  },
  {
   "cell_type": "code",
   "execution_count": 184,
   "id": "foster-motion",
   "metadata": {},
   "outputs": [],
   "source": [
    "class KNeighborsClassifier:\n",
    "    def __init__(self, k: int = 3):\n",
    "        self.k = k\n",
    "    \n",
    "    def dist(self, sample: np.ndarray, cur_sample: np.ndarray) -> float:\n",
    "        euclidian_dist = 0\n",
    "        for i in range(len(sample)-1):\n",
    "            euclidian_dist += (sample[i] - cur_sample[i])**2\n",
    "        euclidian_dict = euclidian_dist**0.5\n",
    "        return euclidian_dist\n",
    "    \n",
    "    def _predict(self, sample: np.ndarray, X: np.ndarray, y: np.ndarray) -> int:\n",
    "        samples_dist = {}\n",
    "        for i in range(len(X)-1):\n",
    "            cur_dist = self.dist(sample, X[i])\n",
    "            samples_dist[cur_dist] = i\n",
    "        sorted_dist = sorted(samples_dist.items(), key=lambda x: x[0])\n",
    "        print(sorted_dist[0])\n",
    "        idxs = list(i[1] for i in sorted_dist[:(self.k)])\n",
    "        neighbors = list(y[i] for i in idxs)\n",
    "        return max(set(neighbors), key = neighbors.count)\n",
    "    \n",
    "    def predict(self, samples: np.ndarray, X: np.ndarray, y: np.ndarray) -> List[int]:\n",
    "        preds = []\n",
    "        for sample in tqdm(samples):\n",
    "            preds.append(self._predict(sample, X, y))\n",
    "        return preds"
   ]
  },
  {
   "cell_type": "code",
   "execution_count": 185,
   "id": "continuous-plymouth",
   "metadata": {},
   "outputs": [
    {
     "data": {
      "text/plain": [
       "array([-0.10999635, -0.32105347, -0.15854246, -0.19877178, -1.20413929,\n",
       "       -0.76906969, -0.75316413, -0.91901756, -1.23627745, -0.99198401,\n",
       "       -0.56004854, -0.83360652, -0.6401039 , -0.415108  , -1.40104977,\n",
       "       -0.53419998, -0.46730568, -0.96808952, -0.87809748, -0.68800283,\n",
       "       -0.19241898, -0.52390482, -0.29997951, -0.27191944, -1.5455919 ,\n",
       "       -0.45716209, -0.55549797, -0.82857392, -0.89100191, -0.76506065])"
      ]
     },
     "execution_count": 185,
     "metadata": {},
     "output_type": "execute_result"
    }
   ],
   "source": [
    "X_train[0]"
   ]
  },
  {
   "cell_type": "code",
   "execution_count": 186,
   "id": "extra-captain",
   "metadata": {},
   "outputs": [
    {
     "data": {
      "text/plain": [
       "1"
      ]
     },
     "execution_count": 186,
     "metadata": {},
     "output_type": "execute_result"
    }
   ],
   "source": [
    "y_train[0]"
   ]
  },
  {
   "cell_type": "code",
   "execution_count": 189,
   "id": "parental-nutrition",
   "metadata": {},
   "outputs": [
    {
     "ename": "SyntaxError",
     "evalue": "invalid syntax (<ipython-input-189-372a6160a25b>, line 1)",
     "output_type": "error",
     "traceback": [
      "\u001b[1;36m  File \u001b[1;32m\"<ipython-input-189-372a6160a25b>\"\u001b[1;36m, line \u001b[1;32m1\u001b[0m\n\u001b[1;33m    from k-neighbour_classiifier import KNeighborsClassifier\u001b[0m\n\u001b[1;37m          ^\u001b[0m\n\u001b[1;31mSyntaxError\u001b[0m\u001b[1;31m:\u001b[0m invalid syntax\n"
     ]
    }
   ],
   "source": [
    "from k-neighbour_classiifier import KNeighborsClassifier"
   ]
  },
  {
   "cell_type": "code",
   "execution_count": 187,
   "id": "suited-london",
   "metadata": {},
   "outputs": [],
   "source": [
    "clf = KNeighborsClassifier()"
   ]
  },
  {
   "cell_type": "code",
   "execution_count": 188,
   "id": "forced-caribbean",
   "metadata": {},
   "outputs": [
    {
     "name": "stderr",
     "output_type": "stream",
     "text": [
      "  6%|████▋                                                                            | 10/171 [00:00<00:01, 91.12it/s]"
     ]
    },
    {
     "name": "stdout",
     "output_type": "stream",
     "text": [
      "(2.4445328114160194, 9)\n",
      "(2.7874595324937723, 167)\n",
      "(3.0501916688029223, 132)\n",
      "(4.400467384889147, 200)\n",
      "(5.806787733323719, 265)\n",
      "(23.16972088283736, 163)\n",
      "(5.6362727958449055, 151)\n",
      "(4.48084688171511, 12)\n",
      "(1.879346028976711, 275)\n",
      "(1.880013570995732, 358)\n",
      "(0.9801362144922586, 387)\n",
      "(3.369576668529103, 12)\n",
      "(2.077979897082759, 72)\n",
      "(13.20233814323843, 183)\n",
      "(2.7411020522279594, 350)\n",
      "(25.780073669343828, 168)\n",
      "(1.569542732186789, 173)\n",
      "(6.632810393494244, 125)\n",
      "(11.49544016730776, 130)\n"
     ]
    },
    {
     "name": "stderr",
     "output_type": "stream",
     "text": [
      " 18%|██████████████▏                                                                  | 30/171 [00:00<00:01, 93.52it/s]"
     ]
    },
    {
     "name": "stdout",
     "output_type": "stream",
     "text": [
      "(5.681455574284507, 292)\n",
      "(3.909278736332752, 99)\n",
      "(2.8235503933162094, 125)\n",
      "(7.530420084887293, 292)\n",
      "(1.4176201446449064, 315)\n",
      "(4.867568069328259, 23)\n",
      "(12.291815472665535, 302)\n",
      "(1.910170697253329, 367)\n",
      "(8.061764889364937, 222)\n",
      "(2.1244730668192977, 113)\n",
      "(8.702668974944885, 237)\n",
      "(6.238013597106356, 335)\n",
      "(1.191015017240837, 186)\n",
      "(12.330677113520203, 375)\n",
      "(2.410809081639499, 172)\n",
      "(1.944244377328756, 256)\n",
      "(3.069211170634576, 322)\n",
      "(2.5766767617271364, 5)\n"
     ]
    },
    {
     "name": "stderr",
     "output_type": "stream",
     "text": [
      " 35%|████████████████████████████▍                                                    | 60/171 [00:00<00:01, 90.93it/s]"
     ]
    },
    {
     "name": "stdout",
     "output_type": "stream",
     "text": [
      "(8.669408324572018, 259)\n",
      "(1.20327316001756, 202)\n",
      "(1.2299472558437463, 4)\n",
      "(4.952661118451002, 125)\n",
      "(10.065202814513192, 192)\n",
      "(3.3728097145577487, 175)\n",
      "(1.491528250455155, 62)\n",
      "(13.476917285983447, 127)\n",
      "(4.666554820704053, 208)\n",
      "(16.58477043503641, 41)\n",
      "(7.595119017350862, 61)\n",
      "(4.18530833280215, 118)\n",
      "(3.583519922607157, 260)\n",
      "(3.0295067234574207, 202)\n",
      "(6.814502956991693, 279)\n",
      "(5.699853215788206, 334)\n",
      "(15.552506334890701, 127)\n",
      "(9.02575913727936, 41)\n",
      "(1.9584089617302742, 212)\n",
      "(4.323679781616597, 329)\n",
      "(17.95371977837595, 151)\n",
      "(3.2658801090053533, 396)\n",
      "(1.4555057016452229, 273)\n"
     ]
    },
    {
     "name": "stderr",
     "output_type": "stream",
     "text": [
      " 52%|██████████████████████████████████████████▏                                      | 89/171 [00:00<00:00, 89.38it/s]"
     ]
    },
    {
     "name": "stdout",
     "output_type": "stream",
     "text": [
      "(1.484665868662622, 113)\n",
      "(7.106378971923469, 75)\n",
      "(15.129312290285611, 304)\n",
      "(3.3926934350054805, 148)\n",
      "(1.375681916655041, 36)\n",
      "(5.047075580234806, 242)\n",
      "(5.744412368810104, 52)\n",
      "(50.173147237203935, 249)\n",
      "(2.9325161819634893, 241)\n",
      "(4.943865353481259, 37)\n",
      "(10.297420761097754, 139)\n",
      "(5.176998231371696, 347)\n",
      "(2.5162335334213384, 70)\n",
      "(4.089559690783146, 64)\n",
      "(11.045330747798978, 250)\n",
      "(2.5525417064823785, 243)\n",
      "(3.137753174798149, 184)\n",
      "(2.8465906648812758, 79)\n",
      "(3.049775226952986, 210)\n",
      "(4.8800607159446825, 85)\n",
      "(4.4945383867183075, 174)\n",
      "(2.371424771078403, 115)\n",
      "(6.897599759089395, 384)\n",
      "(10.876758786963476, 361)\n",
      "(1.9539951978587187, 5)\n",
      "(13.559871705528943, 341)\n",
      "(15.545964013163521, 305)\n",
      "(18.087572665467878, 102)\n",
      "(3.1879661980286222, 96)\n"
     ]
    },
    {
     "name": "stderr",
     "output_type": "stream",
     "text": [
      " 63%|██████████████████████████████████████████████████▌                             | 108/171 [00:01<00:00, 90.13it/s]"
     ]
    },
    {
     "name": "stdout",
     "output_type": "stream",
     "text": [
      "(4.049190488373585, 81)\n",
      "(1.6854687793747083, 53)\n",
      "(3.5087453547513885, 226)\n",
      "(5.6950134072208725, 69)\n",
      "(11.165164153739225, 61)\n",
      "(10.43735415155007, 250)\n",
      "(7.555054748085351, 46)\n",
      "(11.033386166901497, 198)\n",
      "(15.013376543006498, 52)\n",
      "(2.9452582378148504, 238)\n",
      "(6.548283004575182, 326)\n",
      "(3.433047437451069, 80)\n",
      "(4.024592957008198, 95)\n",
      "(15.152880779202, 75)\n",
      "(3.117602427561641, 294)\n",
      "(5.055417434008976, 349)\n",
      "(2.779957865748693, 194)\n",
      "(4.497369816092081, 194)\n",
      "(12.494210412395141, 55)\n",
      "(2.981298025802882, 224)\n",
      "(2.34828468161791, 146)\n",
      "(6.977215395427452, 12)\n",
      "(2.574125213834661, 286)\n",
      "(7.508051977345993, 325)\n",
      "(18.651730412610988, 177)\n",
      "(60.68193255587997, 211)\n",
      "(21.137139890012794, 164)\n",
      "(13.045046698278062, 335)\n"
     ]
    },
    {
     "name": "stderr",
     "output_type": "stream",
     "text": [
      " 81%|████████████████████████████████████████████████████████████████▌               | 138/171 [00:01<00:00, 82.95it/s]"
     ]
    },
    {
     "name": "stdout",
     "output_type": "stream",
     "text": [
      "(4.959482564933634, 349)\n",
      "(10.169524941623925, 171)\n",
      "(6.733844833809167, 237)\n",
      "(42.44758706537513, 190)\n",
      "(1.1007864531276608, 113)\n",
      "(1.9438217219174216, 7)\n",
      "(3.2996363170278427, 294)\n",
      "(3.209740968137492, 283)\n",
      "(5.910212615253726, 129)\n",
      "(4.291402856734227, 52)\n",
      "(3.14858126312546, 112)\n",
      "(1.7282050293558684, 172)\n",
      "(7.593150581357119, 143)\n",
      "(23.599553153024353, 27)\n",
      "(18.070054453404698, 305)\n",
      "(2.268987546743395, 0)\n",
      "(3.128543225674619, 159)\n",
      "(3.52534885654838, 233)\n",
      "(14.639372522568717, 252)\n",
      "(4.028049577630089, 9)\n",
      "(3.4981902173943342, 193)\n"
     ]
    },
    {
     "name": "stderr",
     "output_type": "stream",
     "text": [
      " 92%|█████████████████████████████████████████████████████████████████████████▍      | 157/171 [00:01<00:00, 85.40it/s]"
     ]
    },
    {
     "name": "stdout",
     "output_type": "stream",
     "text": [
      "(5.8037052065744295, 298)\n",
      "(4.060827653477194, 174)\n",
      "(3.3380699093360606, 239)\n",
      "(6.377847670814624, 68)\n",
      "(2.654687795726424, 273)\n",
      "(2.6039361035799757, 382)\n",
      "(3.432878429523573, 278)\n",
      "(4.8372665015018095, 21)\n",
      "(6.617548358814804, 288)\n",
      "(8.713476502066538, 351)\n",
      "(4.2023921338856, 226)\n",
      "(2.654788389558373, 339)\n",
      "(3.1120482399833787, 272)\n",
      "(3.9096851736313236, 328)\n",
      "(3.3941174981707176, 250)\n",
      "(2.725994871327703, 227)\n",
      "(6.652179007629404, 148)\n",
      "(35.55113948121042, 361)\n",
      "(4.7827641443380156, 168)\n",
      "(7.7970777432515295, 22)\n",
      "(1.8417928141293443, 247)\n",
      "(2.185906312439777, 282)\n",
      "(30.111939173347192, 61)\n",
      "(5.968851663273524, 370)\n",
      "(3.8563374345368864, 250)\n",
      "(5.569703627875389, 21)\n",
      "(10.257627563111386, 94)\n"
     ]
    },
    {
     "name": "stderr",
     "output_type": "stream",
     "text": [
      "100%|████████████████████████████████████████████████████████████████████████████████| 171/171 [00:01<00:00, 87.83it/s]"
     ]
    },
    {
     "name": "stdout",
     "output_type": "stream",
     "text": [
      "(4.304403029491334, 200)\n",
      "(1.7724227403588715, 45)\n",
      "(2.0170850678869137, 25)\n",
      "(27.44745549268182, 393)\n",
      "(5.697110749531282, 14)\n",
      "(6.185576096635107, 182)\n"
     ]
    },
    {
     "name": "stderr",
     "output_type": "stream",
     "text": [
      "\n"
     ]
    }
   ],
   "source": [
    "preds = clf.predict(X_test, X_train, y_train)"
   ]
  },
  {
   "cell_type": "code",
   "execution_count": 169,
   "id": "accessory-tunisia",
   "metadata": {},
   "outputs": [],
   "source": [
    "from sklearn.metrics import f1_score"
   ]
  },
  {
   "cell_type": "code",
   "execution_count": 117,
   "id": "sought-chess",
   "metadata": {},
   "outputs": [
    {
     "name": "stdout",
     "output_type": "stream",
     "text": [
      "F1 score: 0.9558709677419355\n"
     ]
    }
   ],
   "source": [
    "res = f1_score(y_test, preds, average='macro')\n",
    "print('F1 score:', res)"
   ]
  },
  {
   "cell_type": "markdown",
   "id": "pharmaceutical-tucson",
   "metadata": {},
   "source": [
    "## KNN Regression"
   ]
  },
  {
   "cell_type": "code",
   "execution_count": 170,
   "id": "patent-whole",
   "metadata": {},
   "outputs": [],
   "source": [
    "class KNeighborsRegression:\n",
    "    def __init__(self, k: int = 3):\n",
    "        self.k = k\n",
    "    \n",
    "    def dist(self, sample: np.ndarray, cur_sample: np.ndarray) -> float:\n",
    "        euclidian_dist = 0\n",
    "        for i in range(len(sample)-1):\n",
    "            euclidian_dist += (sample[i] - cur_sample[i])**2\n",
    "        euclidian_dict = euclidian_dist**0.5\n",
    "        return euclidian_dist\n",
    "    \n",
    "    def weighted_average(self, sorted_dist: Dict[float, int], y: np.ndarray) -> float:\n",
    "        num = 0\n",
    "        for (dist, idx) in sorted_dist:\n",
    "            num += dist**(-1) * y[idx] \n",
    "        denom = sum(list(dist**(-1) for dist, _ in sorted_dist))\n",
    "        return num/denom\n",
    "    \n",
    "    def _predict(self, sample: np.ndarray, X: np.ndarray, y: np.ndarray) -> int:\n",
    "        samples_dist = {}\n",
    "        for i in range(len(X)-1):\n",
    "            cur_dist = self.dist(sample, X[i])\n",
    "            samples_dist[cur_dist] = i\n",
    "        sorted_dist = sorted(samples_dist.items(), key=lambda x: x[0])\n",
    "        pred = self.weighted_average(sorted_dist[:self.k], y)\n",
    "        return pred\n",
    "    \n",
    "    def predict_proba(self, samples: np.ndarray, X: np.ndarray, y: np.ndarray) -> List[int]:\n",
    "        preds = []\n",
    "        for sample in samples:\n",
    "            preds.append(self._predict(sample, X, y))\n",
    "        return preds\n",
    "    \n",
    "    def predict(self, samples: np.ndarray, X: np.ndarray, y: np.ndarray, th: float = 0.5) -> List[int]:\n",
    "        preds = []\n",
    "        for sample in tqdm(samples):\n",
    "            pred = (self._predict(sample, X, y) > th)\n",
    "            preds.append(pred)\n",
    "        return preds"
   ]
  },
  {
   "cell_type": "code",
   "execution_count": 171,
   "id": "alert-excellence",
   "metadata": {},
   "outputs": [],
   "source": [
    "clf = KNeighborsRegression()"
   ]
  },
  {
   "cell_type": "code",
   "execution_count": 172,
   "id": "miniature-physics",
   "metadata": {},
   "outputs": [
    {
     "name": "stderr",
     "output_type": "stream",
     "text": [
      "100%|████████████████████████████████████████████████████████████████████████████████| 171/171 [00:02<00:00, 85.01it/s]\n"
     ]
    }
   ],
   "source": [
    "preds = clf.predict(X_test, X_train, y_train)"
   ]
  },
  {
   "cell_type": "code",
   "execution_count": 173,
   "id": "registered-elements",
   "metadata": {},
   "outputs": [
    {
     "name": "stdout",
     "output_type": "stream",
     "text": [
      "F1 score: 0.9558709677419355\n"
     ]
    }
   ],
   "source": [
    "res = f1_score(y_test, preds, average='macro')\n",
    "print('F1 score:', res)"
   ]
  },
  {
   "cell_type": "code",
   "execution_count": null,
   "id": "functioning-disability",
   "metadata": {},
   "outputs": [],
   "source": []
  }
 ],
 "metadata": {
  "kernelspec": {
   "display_name": "Python 3",
   "language": "python",
   "name": "python3"
  },
  "language_info": {
   "codemirror_mode": {
    "name": "ipython",
    "version": 3
   },
   "file_extension": ".py",
   "mimetype": "text/x-python",
   "name": "python",
   "nbconvert_exporter": "python",
   "pygments_lexer": "ipython3",
   "version": "3.6.2"
  }
 },
 "nbformat": 4,
 "nbformat_minor": 5
}
