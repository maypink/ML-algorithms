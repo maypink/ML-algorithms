{
 "cells": [
  {
   "cell_type": "code",
   "execution_count": 5,
   "id": "apparent-schedule",
   "metadata": {},
   "outputs": [],
   "source": [
    "import pandas as pd\n",
    "import numpy as np"
   ]
  },
  {
   "cell_type": "code",
   "execution_count": 6,
   "id": "harmful-biodiversity",
   "metadata": {},
   "outputs": [],
   "source": [
    "from sklearn.datasets import load_breast_cancer\n",
    "data = load_breast_cancer(return_X_y = True) "
   ]
  },
  {
   "cell_type": "code",
   "execution_count": 7,
   "id": "alpha-wings",
   "metadata": {},
   "outputs": [],
   "source": [
    "from sklearn.preprocessing import StandardScaler"
   ]
  },
  {
   "cell_type": "code",
   "execution_count": 8,
   "id": "moderate-quilt",
   "metadata": {},
   "outputs": [],
   "source": [
    "scaler = StandardScaler()"
   ]
  },
  {
   "cell_type": "code",
   "execution_count": 9,
   "id": "harmful-teacher",
   "metadata": {},
   "outputs": [],
   "source": [
    "from sklearn.model_selection import train_test_split\n",
    "X_train, X_test, y_train, y_test = train_test_split(scaler.fit_transform(data[0]), data[1], test_size=0.3, random_state=42)"
   ]
  },
  {
   "cell_type": "code",
   "execution_count": 10,
   "id": "bound-vertical",
   "metadata": {},
   "outputs": [
    {
     "data": {
      "text/plain": [
       "array([-0.47069438, -0.16048584, -0.44810956, -0.49199876,  0.23411429,\n",
       "        0.02765051, -0.10984741, -0.27623152,  0.41394897,  0.13217601,\n",
       "       -0.03274296, -0.31361556, -0.18269561, -0.22105292, -0.02932749,\n",
       "       -0.35591235, -0.16192949, -0.23133322, -0.32961186, -0.07901817,\n",
       "       -0.26903951, -0.16890536, -0.33393537, -0.35629925,  0.4485028 ,\n",
       "       -0.10474068, -0.02441212, -0.19956318,  0.18320441,  0.19695794])"
      ]
     },
     "execution_count": 10,
     "metadata": {},
     "output_type": "execute_result"
    }
   ],
   "source": [
    "([X_test[0]]*5)[0]"
   ]
  },
  {
   "cell_type": "code",
   "execution_count": 11,
   "id": "loose-presentation",
   "metadata": {},
   "outputs": [
    {
     "data": {
      "text/plain": [
       "1"
      ]
     },
     "execution_count": 11,
     "metadata": {},
     "output_type": "execute_result"
    }
   ],
   "source": [
    "y_train[0]"
   ]
  },
  {
   "cell_type": "code",
   "execution_count": 12,
   "id": "suffering-group",
   "metadata": {},
   "outputs": [],
   "source": [
    "a = [[1, 2], [3, 4]]\n"
   ]
  },
  {
   "cell_type": "code",
   "execution_count": 13,
   "id": "modified-omega",
   "metadata": {},
   "outputs": [],
   "source": [
    "from k_neighbors_classifier import KNeighborsClassifier"
   ]
  },
  {
   "cell_type": "code",
   "execution_count": 10,
   "id": "regulation-safety",
   "metadata": {},
   "outputs": [],
   "source": [
    "clf = KNeighborsClassifier()"
   ]
  },
  {
   "cell_type": "code",
   "execution_count": 11,
   "id": "incredible-family",
   "metadata": {},
   "outputs": [
    {
     "name": "stderr",
     "output_type": "stream",
     "text": [
      "100%|████████████████████████████████████████████████████████████████████████████████| 171/171 [00:01<00:00, 90.29it/s]\n"
     ]
    }
   ],
   "source": [
    "preds = clf.predict(X_test, X_train, y_train)"
   ]
  },
  {
   "cell_type": "code",
   "execution_count": 19,
   "id": "mental-adobe",
   "metadata": {},
   "outputs": [],
   "source": [
    "from sklearn.metrics import f1_score"
   ]
  },
  {
   "cell_type": "code",
   "execution_count": 20,
   "id": "stone-banner",
   "metadata": {},
   "outputs": [
    {
     "name": "stdout",
     "output_type": "stream",
     "text": [
      "F1 score: 0.9558709677419355\n"
     ]
    }
   ],
   "source": [
    "res = f1_score(y_test, preds, average='macro')\n",
    "print('F1 score:', res)"
   ]
  },
  {
   "cell_type": "markdown",
   "id": "small-building",
   "metadata": {},
   "source": [
    "## KNN Regression"
   ]
  },
  {
   "cell_type": "code",
   "execution_count": 15,
   "id": "working-pledge",
   "metadata": {},
   "outputs": [],
   "source": [
    "from k_neighbours_regression import KNeighborsRegression"
   ]
  },
  {
   "cell_type": "code",
   "execution_count": 16,
   "id": "wrapped-english",
   "metadata": {},
   "outputs": [],
   "source": [
    "clf = KNeighborsRegression()"
   ]
  },
  {
   "cell_type": "code",
   "execution_count": 17,
   "id": "enhanced-battle",
   "metadata": {},
   "outputs": [
    {
     "name": "stderr",
     "output_type": "stream",
     "text": [
      "100%|████████████████████████████████████████████████████████████████████████████████| 171/171 [00:02<00:00, 81.14it/s]\n"
     ]
    }
   ],
   "source": [
    "preds = clf.predict(X_test, X_train, y_train)"
   ]
  },
  {
   "cell_type": "code",
   "execution_count": 21,
   "id": "enormous-supply",
   "metadata": {},
   "outputs": [
    {
     "name": "stdout",
     "output_type": "stream",
     "text": [
      "F1 score: 0.9558709677419355\n"
     ]
    }
   ],
   "source": [
    "res = f1_score(y_test, preds, average='macro')\n",
    "print('F1 score:', res)"
   ]
  }
 ],
 "metadata": {
  "kernelspec": {
   "display_name": "Python 3",
   "language": "python",
   "name": "python3"
  },
  "language_info": {
   "codemirror_mode": {
    "name": "ipython",
    "version": 3
   },
   "file_extension": ".py",
   "mimetype": "text/x-python",
   "name": "python",
   "nbconvert_exporter": "python",
   "pygments_lexer": "ipython3",
   "version": "3.6.2"
  }
 },
 "nbformat": 4,
 "nbformat_minor": 5
}
