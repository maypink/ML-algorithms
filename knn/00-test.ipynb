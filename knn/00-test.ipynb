{
 "cells": [
  {
   "cell_type": "code",
   "execution_count": 1,
   "id": "apparent-schedule",
   "metadata": {},
   "outputs": [],
   "source": [
    "import pandas as pd\n",
    "import numpy as np"
   ]
  },
  {
   "cell_type": "code",
   "execution_count": 2,
   "id": "harmful-biodiversity",
   "metadata": {},
   "outputs": [],
   "source": [
    "from sklearn.datasets import load_breast_cancer\n",
    "data = load_breast_cancer(return_X_y = True) "
   ]
  },
  {
   "cell_type": "code",
   "execution_count": 3,
   "id": "alpha-wings",
   "metadata": {},
   "outputs": [],
   "source": [
    "from sklearn.preprocessing import StandardScaler"
   ]
  },
  {
   "cell_type": "code",
   "execution_count": 4,
   "id": "moderate-quilt",
   "metadata": {},
   "outputs": [],
   "source": [
    "scaler = StandardScaler()"
   ]
  },
  {
   "cell_type": "code",
   "execution_count": 5,
   "id": "harmful-teacher",
   "metadata": {},
   "outputs": [],
   "source": [
    "from sklearn.model_selection import train_test_split\n",
    "X_train, X_test, y_train, y_test = train_test_split(scaler.fit_transform(data[0]), data[1], test_size=0.3, random_state=42)"
   ]
  },
  {
   "cell_type": "code",
   "execution_count": 6,
   "id": "uniform-neighborhood",
   "metadata": {},
   "outputs": [
    {
     "data": {
      "text/plain": [
       "array([-0.2150816 , -0.67476767, -0.24174666, -0.28836101, -1.7941008 ,\n",
       "       -0.58922015, -0.09892458, -0.53958808, -1.42247556, -0.64750622,\n",
       "       -0.87080152, -0.13943855, -0.81336461, -0.56493964, -0.37400813,\n",
       "        0.40362649,  0.58609294, -0.22971112, -1.02460247,  0.10632499,\n",
       "       -0.41606811, -0.47668012, -0.45486587, -0.43681165, -1.30931644,\n",
       "       -0.00741131,  0.28119013, -0.37801891, -1.37957166, -0.42480753])"
      ]
     },
     "execution_count": 6,
     "metadata": {},
     "output_type": "execute_result"
    }
   ],
   "source": [
    "X_train[1]"
   ]
  },
  {
   "cell_type": "code",
   "execution_count": 7,
   "id": "loose-presentation",
   "metadata": {},
   "outputs": [
    {
     "data": {
      "text/plain": [
       "1"
      ]
     },
     "execution_count": 7,
     "metadata": {},
     "output_type": "execute_result"
    }
   ],
   "source": [
    "y_train[0]"
   ]
  },
  {
   "cell_type": "code",
   "execution_count": 8,
   "id": "split-vault",
   "metadata": {},
   "outputs": [],
   "source": [
    "from k_neighbors_classifier import KNeighborsClassifier"
   ]
  },
  {
   "cell_type": "code",
   "execution_count": 24,
   "id": "regulation-safety",
   "metadata": {},
   "outputs": [],
   "source": [
    "clf = KNeighborsClassifier(5)"
   ]
  },
  {
   "cell_type": "code",
   "execution_count": 25,
   "id": "incredible-family",
   "metadata": {},
   "outputs": [
    {
     "name": "stderr",
     "output_type": "stream",
     "text": [
      "100%|████████████████████████████████████████████████████████████████████████████████| 171/171 [00:02<00:00, 70.18it/s]\n"
     ]
    }
   ],
   "source": [
    "preds = clf.predict(X_test, X_train, y_train)"
   ]
  },
  {
   "cell_type": "code",
   "execution_count": 26,
   "id": "mental-adobe",
   "metadata": {},
   "outputs": [],
   "source": [
    "from sklearn.metrics import f1_score"
   ]
  },
  {
   "cell_type": "code",
   "execution_count": 27,
   "id": "stone-banner",
   "metadata": {},
   "outputs": [
    {
     "name": "stdout",
     "output_type": "stream",
     "text": [
      "F1 score: 0.9558709677419355\n"
     ]
    }
   ],
   "source": [
    "res = f1_score(y_test, preds, average='macro')\n",
    "print('F1 score:', res)"
   ]
  },
  {
   "cell_type": "markdown",
   "id": "small-building",
   "metadata": {},
   "source": [
    "## KNN Regression"
   ]
  },
  {
   "cell_type": "code",
   "execution_count": 13,
   "id": "working-pledge",
   "metadata": {},
   "outputs": [],
   "source": [
    "from k_neighbours_regression import KNeighborsRegression"
   ]
  },
  {
   "cell_type": "code",
   "execution_count": 20,
   "id": "wrapped-english",
   "metadata": {},
   "outputs": [],
   "source": [
    "clf = KNeighborsRegression(5)"
   ]
  },
  {
   "cell_type": "code",
   "execution_count": 21,
   "id": "enhanced-battle",
   "metadata": {},
   "outputs": [
    {
     "name": "stderr",
     "output_type": "stream",
     "text": [
      "100%|████████████████████████████████████████████████████████████████████████████████| 171/171 [00:02<00:00, 75.76it/s]\n"
     ]
    }
   ],
   "source": [
    "preds = clf.predict(X_test, X_train, y_train)"
   ]
  },
  {
   "cell_type": "code",
   "execution_count": 22,
   "id": "enormous-supply",
   "metadata": {},
   "outputs": [
    {
     "name": "stdout",
     "output_type": "stream",
     "text": [
      "F1 score: 0.9558709677419355\n"
     ]
    }
   ],
   "source": [
    "res = f1_score(y_test, preds, average='macro')\n",
    "print('F1 score:', res)"
   ]
  },
  {
   "cell_type": "code",
   "execution_count": null,
   "id": "homeless-tyler",
   "metadata": {},
   "outputs": [],
   "source": []
  }
 ],
 "metadata": {
  "kernelspec": {
   "display_name": "Python 3",
   "language": "python",
   "name": "python3"
  },
  "language_info": {
   "codemirror_mode": {
    "name": "ipython",
    "version": 3
   },
   "file_extension": ".py",
   "mimetype": "text/x-python",
   "name": "python",
   "nbconvert_exporter": "python",
   "pygments_lexer": "ipython3",
   "version": "3.6.2"
  }
 },
 "nbformat": 4,
 "nbformat_minor": 5
}
